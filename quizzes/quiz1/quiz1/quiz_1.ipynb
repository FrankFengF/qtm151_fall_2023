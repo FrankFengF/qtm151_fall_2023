{
 "cells": [
  {
   "attachments": {},
   "cell_type": "markdown",
   "metadata": {},
   "source": [
    "# <span style=\"color:darkblue\"> QTM 151 - Quiz 1 </span>"
   ]
  },
  {
   "attachments": {},
   "cell_type": "markdown",
   "metadata": {},
   "source": [
    "## Try to submit as an HTML file"
   ]
  },
  {
   "attachments": {},
   "cell_type": "markdown",
   "metadata": {},
   "source": [
    "<font size=\"5\"> \n",
    "\n",
    "Print your Emory ID below"
   ]
  },
  {
   "cell_type": "code",
   "execution_count": 1,
   "metadata": {},
   "outputs": [
    {
     "name": "stdout",
     "output_type": "stream",
     "text": [
      "2513111\n"
     ]
    }
   ],
   "source": [
    "# Write your answer here\n",
    "print(2513111)"
   ]
  },
  {
   "attachments": {},
   "cell_type": "markdown",
   "metadata": {},
   "source": [
    "<font size = \"5\" >\n",
    "This quiz is open book \n",
    "\n",
    "- You can use the lecture notes\n",
    "- You will get partial credit for attempting the questions\n",
    "- To get full credit, the code should your run as intended\n",
    "- You should <span style=\"color:red\"> NOT </span> communicate with other students\n",
    "\n",
    "Print the following message: <br>\n",
    "\n",
    "\"I will abide by Emory's code of conduct\"\n",
    "\n",
    "**By printing the message, you acknowledge that you will abide by Emory's code of conduct.**"
   ]
  },
  {
   "cell_type": "code",
   "execution_count": 2,
   "metadata": {},
   "outputs": [
    {
     "name": "stdout",
     "output_type": "stream",
     "text": [
      "I will abide by Emory's code of conduct\n"
     ]
    }
   ],
   "source": [
    "# Write your answer here:\n",
    "print(\"I will abide by Emory's code of conduct\")"
   ]
  },
  {
   "attachments": {},
   "cell_type": "markdown",
   "metadata": {},
   "source": [
    "<font size = \"5\">\n",
    "\n",
    "Import the libraries \"numpy\", \"matplotlib.pytplot\", and \"pandas\""
   ]
  },
  {
   "cell_type": "code",
   "execution_count": 3,
   "metadata": {},
   "outputs": [],
   "source": [
    "# Write your answer here\n",
    "import numpy as np\n",
    "import pandas as pd\n",
    "import matplotlib.pyplot as plt"
   ]
  },
  {
   "cell_type": "markdown",
   "metadata": {},
   "source": [
    "## <span style=\"color:darkblue\"> Part I: Visualizing Random Variables </span>\n",
    "\n"
   ]
  },
  {
   "attachments": {},
   "cell_type": "markdown",
   "metadata": {},
   "source": [
    "<font size = \"5\">\n",
    "\n",
    "(a) Create two random variables ...\n",
    "\n",
    "\n",
    "- Call them \"vec_x\" and \"vec_z\"\n",
    "- Generate \"vec_x\" from a uniform distribution with (low = 10, high = 20, size = 1000)\n",
    "- Generate \"vec_z\" from a chi-square distribution with (df = 1, size = 1000)\n",
    "- Plot a histogram of each variable\n",
    "    - Label the axes and title\n",
    "    - Each graph should have a different title\n",
    " \n",
    "To get full points, plot the histograms on a grid (See Lecture 6)"
   ]
  },
  {
   "cell_type": "code",
   "execution_count": 15,
   "metadata": {},
   "outputs": [
    {
     "data": {
      "image/png": "[encoded data removed]",
      "text/plain": [
       "<Figure size 640x480 with 1 Axes>"
      ]
     },
     "metadata": {},
     "output_type": "display_data"
    }
   ],
   "source": [
    "# Write your own code:\n",
    "vec_x=np.random.normal(loc=15,scale=5,size=1000)\n",
    "#vec_z=np.random.normal(df=1,size=1000)\n",
    "plt.hist(vec_x)\n",
    "plt.xlabel('Number')\n",
    "plt.ylabel(\"Frequency\")\n",
    "plt.show()"
   ]
  },
  {
   "attachments": {},
   "cell_type": "markdown",
   "metadata": {},
   "source": [
    "<font size = \"5\">\n",
    "\n",
    "(b) Create a new variable \"vec_y\" by the formula\n",
    "\n",
    "$ y = e^x + 2x + 5$\n",
    "\n",
    "- Use element-by-element vector operations (no loops)\n",
    "- Produce a scatter plot of \"vec_y\" against \"vec_x\"\n",
    "- Label the axes and the title\n",
    "- Change the color to \"red\", \"green\" or \"purple\" (you choose)\n",
    "\n",
    "Hint: You can use the numpy \"exp()\" function with vector arrays"
   ]
  },
  {
   "cell_type": "code",
   "execution_count": 11,
   "metadata": {},
   "outputs": [
    {
     "ename": "NameError",
     "evalue": "name 'x' is not defined",
     "output_type": "error",
     "traceback": [
      "\u001b[1;31m---------------------------------------------------------------------------\u001b[0m",
      "\u001b[1;31mNameError\u001b[0m                                 Traceback (most recent call last)",
      "\u001b[1;32mc:\\Users\\Frank F\\Desktop\\quiz_1.ipynb Cell 13\u001b[0m line \u001b[0;36m2\n\u001b[0;32m      <a href='vscode-notebook-cell:/c%3A/Users/Frank%20F/Desktop/quiz_1.ipynb#X15sZmlsZQ%3D%3D?line=0'>1</a>\u001b[0m \u001b[39m# Write your own code:\u001b[39;00m\n\u001b[1;32m----> <a href='vscode-notebook-cell:/c%3A/Users/Frank%20F/Desktop/quiz_1.ipynb#X15sZmlsZQ%3D%3D?line=1'>2</a>\u001b[0m x\u001b[39m=\u001b[39mx\n\u001b[0;32m      <a href='vscode-notebook-cell:/c%3A/Users/Frank%20F/Desktop/quiz_1.ipynb#X15sZmlsZQ%3D%3D?line=2'>3</a>\u001b[0m vec_y\u001b[39m=\u001b[39mnp\u001b[39m.\u001b[39mexp\u001b[39m*\u001b[39m\u001b[39m*\u001b[39mx\u001b[39m+\u001b[39m\u001b[39m2\u001b[39m\u001b[39m*\u001b[39mx\u001b[39m+\u001b[39m\u001b[39m5\u001b[39m\n",
      "\u001b[1;31mNameError\u001b[0m: name 'x' is not defined"
     ]
    }
   ],
   "source": [
    "# Write your own code:\n",
    "x=x\n",
    "vec_y=np.exp**x+2*x+5"
   ]
  },
  {
   "cell_type": "markdown",
   "metadata": {},
   "source": [
    "## <span style=\"color:darkblue\"> Part II: Operations over multiple datasets </span>\n",
    "\n"
   ]
  },
  {
   "attachments": {},
   "cell_type": "markdown",
   "metadata": {},
   "source": [
    "<font size = \"5\">\n",
    "\n",
    "(c) Creates two lists with ...\n",
    "\n",
    "- The names of the datasets\n",
    "- The years of the datasets (type manually based on the dataset names)\n",
    "\n",
    "To answer this question, you need to browse the Quiz folder\n",
    "\n",
    "You will find three datasets on the distribution of ages worldwide"
   ]
  },
  {
   "cell_type": "code",
   "execution_count": 18,
   "metadata": {},
   "outputs": [],
   "source": [
    "# Write your own code\n",
    "List_name=['wdi_ages1980.csv','wdi_ages2000.csv','wdi_ages2020.csv']\n",
    "List_year=[1980,2000,2020]"
   ]
  },
  {
   "attachments": {},
   "cell_type": "markdown",
   "metadata": {},
   "source": [
    "<font size = \"5\">\n",
    "\n",
    "(d) Create a loop that ...\n",
    "\n",
    "\n",
    "- Goes over the list of years\n",
    "- If the year $\\ge$ 2000, print the message\n",
    "\n",
    "$\\qquad$ \"This dataset contains information on or after 2000.\n",
    "\n",
    "- If the year $<$ 2000, print the message\n",
    "\n",
    "$\\qquad$ \"This dataset contains information before 2000\""
   ]
  },
  {
   "cell_type": "code",
   "execution_count": 19,
   "metadata": {},
   "outputs": [
    {
     "name": "stdout",
     "output_type": "stream",
     "text": [
      "This dataset contains information before 2000\n",
      "This dataset contains information on or after 2000\n",
      "This dataset contains information on or after 2000\n"
     ]
    }
   ],
   "source": [
    "# Write your own code\n",
    "for year in List_year:\n",
    "    if year>=2000:\n",
    "        print(\"This dataset contains information on or after 2000\")\n",
    "    else:\n",
    "        print(\"This dataset contains information before 2000\")"
   ]
  },
  {
   "attachments": {},
   "cell_type": "markdown",
   "metadata": {},
   "source": [
    "<font size = \"5\">\n",
    "\n",
    "(e) Your goal is to convert all the \".csv\" data files to \".xlsx\" (Excel) files\n",
    "\n",
    "<font size = \"4\">\n",
    "\n",
    "- **Before answering** this question do use your terminal (in Mac) or Anaconda prompt (in windows) to install the following package: ```conda install openpyxl```\n",
    "- Create a list with the \".csv\" dataset names (including their relative subfolder \"data_quiz/)\n",
    "- Create a new list called \"list_newnames\", with each element ending in \".xlsx\" (including the subfolder \"data_excel/\")\n",
    "- Start an index\n",
    "\n",
    "$\\qquad$ index = 0\n",
    "\n",
    "- Initiate a for loop over the list of dataset names. Inside the loop:\n",
    "    - Read the \".csv\" dataset and store it in an object called \"dataset\"\n",
    "    - Create a variable called \"filename\" from the \"list_newnames\", extracting the element \"index\"\n",
    "    - Store \"dataset\" as an excel file with name \"filename\".\n",
    "\n",
    "    $\\qquad$ index = index + 1\n",
    "\n",
    "Note: Check that you did it correctly by trying to open your new excel files outside \"VSCode\""
   ]
  },
  {
   "cell_type": "code",
   "execution_count": 20,
   "metadata": {},
   "outputs": [
    {
     "ename": "SyntaxError",
     "evalue": "invalid syntax (1830173336.py, line 2)",
     "output_type": "error",
     "traceback": [
      "\u001b[1;36m  Cell \u001b[1;32mIn[20], line 2\u001b[1;36m\u001b[0m\n\u001b[1;33m    conda install openpyx1\u001b[0m\n\u001b[1;37m          ^\u001b[0m\n\u001b[1;31mSyntaxError\u001b[0m\u001b[1;31m:\u001b[0m invalid syntax\n"
     ]
    }
   ],
   "source": [
    "# Write your own code:\n",
    "List_dataset=[\"da\"]"
   ]
  },
  {
   "attachments": {},
   "cell_type": "markdown",
   "metadata": {},
   "source": [
    "<font size = \"5\">\n",
    "\n",
    "(f) Your goal is to open each dataset, create a new variable, then plot\n",
    "\n",
    "\n",
    "<font size = \"3\">\n",
    "\n",
    "- Create a list with the \".csv\" dataset names (including their relative subfolder \"data_quiz/)\n",
    "- Start an index\n",
    "\n",
    "$\\qquad$ index = 0\n",
    "\n",
    "- Initiate a for loop over the list of dataset names. Inside the loop:\n",
    "    - Read the dataset and store it in an object called \"dataset\"\n",
    "    - Create two new variables as\n",
    "    \n",
    "    $\\qquad$ percent_ages0to14 = dataset[\"percent_ages0to14\"] <br>\n",
    "    $\\qquad$ percent_ages15to64 = dataset[\"percent_ages15to64\"] \n",
    "\n",
    "    - Calculate the percent of the population between ages 0 and 64 by adding the two previous variables\n",
    "    - Plot a histogram and label the axes\n",
    "    - Use plt.show() to display the plot\n",
    "    - Write\n",
    "\n",
    "    $\\qquad$ index = index + 1\n",
    "\n",
    "\n",
    "This should produce a histogram for each dataset"
   ]
  },
  {
   "cell_type": "code",
   "execution_count": 8,
   "metadata": {},
   "outputs": [],
   "source": [
    "# Write your own code:\n",
    "\n"
   ]
  }
 ],
 "metadata": {
  "kernelspec": {
   "display_name": "Python 3",
   "language": "python",
   "name": "python3"
  },
  "language_info": {
   "codemirror_mode": {
    "name": "ipython",
    "version": 3
   },
   "file_extension": ".py",
   "mimetype": "text/x-python",
   "name": "python",
   "nbconvert_exporter": "python",
   "pygments_lexer": "ipython3",
   "version": "3.11.4"
  },
  "orig_nbformat": 4,
  "vscode": {
   "interpreter": {
    "hash": "aee8b7b246df8f9039afb4144a1f6fd8d2ca17a180786b69acc140d282b71a49"
   }
  }
 },
 "nbformat": 4,
 "nbformat_minor": 2
}
